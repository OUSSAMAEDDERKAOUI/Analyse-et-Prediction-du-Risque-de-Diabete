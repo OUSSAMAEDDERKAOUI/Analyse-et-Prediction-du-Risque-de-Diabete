{
 "cells": [
  {
   "cell_type": "markdown",
   "id": "6a9739b9",
   "metadata": {},
   "source": [
    "-1️ Import des bibliothèques"
   ]
  },
  {
   "cell_type": "code",
   "execution_count": null,
   "id": "41b18b77",
   "metadata": {},
   "outputs": [],
   "source": [
    "\n",
    "import pandas as pd \n",
    "import numpy as np\n",
    "import seaborn as sns\n",
    "import matplotlib.pyplot  as plt\n",
    "%matplotlib inline\n",
    "sns.set(style=\"whitegrid\")\n"
   ]
  },
  {
   "cell_type": "markdown",
   "id": "05ae568e",
   "metadata": {},
   "source": [
    " **Chargement du dataset et vérification des dimensions**"
   ]
  },
  {
   "cell_type": "code",
   "execution_count": 29,
   "id": "9c18e3b1",
   "metadata": {},
   "outputs": [
    {
     "name": "stdout",
     "output_type": "stream",
     "text": [
      "==================================================\n",
      " Nom du dataset : dataset-diabete.csv\n",
      " Nombre de lignes et de colonnes : (768, 8)\n",
      "================================================== \n",
      "\n",
      " Aperçu des 5 premières lignes du dataset :\n",
      "\n",
      "   Pregnancies  Glucose  BloodPressure  SkinThickness  Insulin   BMI  \\\n",
      "0            6      148             72             35        0  33.6   \n",
      "1            1       85             66             29        0  26.6   \n",
      "2            8      183             64              0        0  23.3   \n",
      "3            1       89             66             23       94  28.1   \n",
      "4            0      137             40             35      168  43.1   \n",
      "\n",
      "   DiabetesPedigreeFunction  Age  \n",
      "0                     0.627   50  \n",
      "1                     0.351   31  \n",
      "2                     0.672   32  \n",
      "3                     0.167   21  \n",
      "4                     2.288   33  \n",
      "\n",
      "==================================================\n",
      "\n",
      " Colonnes du dataset :\n",
      "1. Pregnancies\n",
      "2. Glucose\n",
      "3. BloodPressure\n",
      "4. SkinThickness\n",
      "5. Insulin\n",
      "6. BMI\n",
      "7. DiabetesPedigreeFunction\n",
      "8. Age\n",
      "==================================================\n"
     ]
    }
   ],
   "source": [
    "df = pd.read_csv(\"../data/raw/dataset-diabete.csv\", index_col=0)\n",
    "\n",
    "print(\"=\"*50)\n",
    "print(f\" Nom du dataset : dataset-diabete.csv\")\n",
    "print(f\" Nombre de lignes et de colonnes : {df.shape}\")\n",
    "print(\"=\"*50, \"\\n\")\n",
    "\n",
    "print(\" Aperçu des 5 premières lignes du dataset :\\n\")\n",
    "print(df.head())\n",
    "print(\"\\n\" + \"=\"*50 + \"\\n\")\n",
    "\n",
    "print(\" Colonnes du dataset :\")\n",
    "for i, col in enumerate(df.columns.tolist()):\n",
    "    print(f\"{i+1}. {col}\")\n",
    "print(\"=\"*50)\n"
   ]
  },
  {
   "cell_type": "markdown",
   "id": "377b9617",
   "metadata": {},
   "source": [
    "**Types de données et valeurs manquantes**"
   ]
  },
  {
   "cell_type": "code",
   "execution_count": 24,
   "id": "5643fae8",
   "metadata": {},
   "outputs": [
    {
     "name": "stdout",
     "output_type": "stream",
     "text": [
      "==================================================\n",
      " Types de données par colonne :\n",
      "Pregnancies                   int64\n",
      "Glucose                       int64\n",
      "BloodPressure                 int64\n",
      "SkinThickness                 int64\n",
      "Insulin                       int64\n",
      "BMI                         float64\n",
      "DiabetesPedigreeFunction    float64\n",
      "Age                           int64\n",
      "dtype: object\n",
      "================================================== \n",
      "\n",
      " Nombre de valeurs manquantes par colonne :\n",
      "Pregnancies                 0\n",
      "Glucose                     0\n",
      "BloodPressure               0\n",
      "SkinThickness               0\n",
      "Insulin                     0\n",
      "BMI                         0\n",
      "DiabetesPedigreeFunction    0\n",
      "Age                         0\n",
      "dtype: int64\n",
      "==================================================\n",
      "\n",
      " Aucune valeur manquante dans ce dataset.\n",
      "\n",
      "==================================================\n"
     ]
    }
   ],
   "source": [
    "print(\"=\"*50)\n",
    "print(\" Types de données par colonne :\")\n",
    "print(df.dtypes)\n",
    "print(\"=\"*50, \"\\n\")\n",
    "\n",
    "print(\" Nombre de valeurs manquantes par colonne :\")\n",
    "print(df.isna().sum())\n",
    "print(\"=\"*50)\n",
    "\n",
    "if df.isna().any().any():\n",
    "    print(\"\\n Il y a des valeurs manquantes dans ce dataset.\")\n",
    "else:\n",
    "    print(\"\\n Aucune valeur manquante dans ce dataset.\\n\")\n",
    "print(\"=\"*50)\n"
   ]
  },
  {
   "cell_type": "markdown",
   "id": "27c8cc87",
   "metadata": {},
   "source": [
    "**Statistiques descriptives**"
   ]
  },
  {
   "cell_type": "markdown",
   "id": "e1c3f63d",
   "metadata": {},
   "source": [
    "**Visualisations**"
   ]
  }
 ],
 "metadata": {
  "kernelspec": {
   "display_name": "Python 3",
   "language": "python",
   "name": "python3"
  },
  "language_info": {
   "codemirror_mode": {
    "name": "ipython",
    "version": 3
   },
   "file_extension": ".py",
   "mimetype": "text/x-python",
   "name": "python",
   "nbconvert_exporter": "python",
   "pygments_lexer": "ipython3",
   "version": "3.13.7"
  }
 },
 "nbformat": 4,
 "nbformat_minor": 5
}
