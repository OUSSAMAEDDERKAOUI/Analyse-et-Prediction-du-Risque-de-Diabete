{
 "cells": [
  {
   "cell_type": "markdown",
   "id": "36322f58",
   "metadata": {},
   "source": [
    "#### User Story 4 : Analyse des clusters\n"
   ]
  },
  {
   "cell_type": "markdown",
   "id": "e6855328",
   "metadata": {},
   "source": [
    "**Calculer les moyennes des caractéristiques au sein de chaque cluster.**\n"
   ]
  },
  {
   "cell_type": "code",
   "execution_count": 45,
   "id": "786310d7",
   "metadata": {},
   "outputs": [
    {
     "name": "stdout",
     "output_type": "stream",
     "text": [
      "   Pregnancies   Glucose  BloodPressure  SkinThickness   Insulin       BMI  \\\n",
      "0     0.825781  0.866088      -0.029786       0.666679  0.570502  0.175717   \n",
      "1    -0.802604 -1.202351      -0.526828      -0.001845 -1.363052 -0.855806   \n",
      "2     1.152449  2.015220      -0.692509      -0.224686  0.476416 -1.342096   \n",
      "3    -0.802604 -1.071021      -0.526828      -0.670369 -0.525808 -0.634765   \n",
      "4    -1.703581  0.504932      -2.680676       0.666679  0.446709  1.575641   \n",
      "\n",
      "   DiabetesPedigreeFunction       Age  Cluster  \n",
      "0                  0.612059  1.437767        0  \n",
      "1                 -0.324994 -0.050575        1  \n",
      "2                  0.749586  0.047687        0  \n",
      "3                 -1.063014 -1.247065        1  \n",
      "4                  4.158488  0.143015        0  \n",
      "Cluster\n",
      "0    417\n",
      "1    351\n",
      "Name: count, dtype: int64\n",
      "Pregnancies  Glucose     BloodPressure  SkinThickness  Insulin   BMI        DiabetesPedigreeFunction  Age     \n",
      "1.000635     102.592186  66.341880      24.257224      4.492136  29.230484  0.42308                   3.282628    1\n",
      "1.571531     137.637890  77.424803      33.022610      5.179426  35.081809  0.51295                   3.649032    1\n",
      "Name: count, dtype: int64\n",
      "   Pregnancies  Glucose  BloodPressure  SkinThickness   Insulin   BMI  \\\n",
      "0     1.945910    148.0           72.0           35.0  5.203221  33.6   \n",
      "1     0.693147     85.0           66.0           29.0  4.057977  26.6   \n",
      "2     2.197225    183.0           64.0           27.0  5.147494  23.3   \n",
      "3     0.693147     89.0           66.0           23.0  4.553877  28.1   \n",
      "4     0.000000    137.0           40.0           35.0  5.129899  43.1   \n",
      "\n",
      "   DiabetesPedigreeFunction       Age  Cluster  risk_category  \n",
      "0                     0.627  3.931826        0   risque_eleve  \n",
      "1                     0.351  3.465736        1  risque_faible  \n",
      "2                     0.672  3.496508        0   risque_eleve  \n",
      "3                     0.167  3.091042        1  risque_faible  \n",
      "4                     2.288  3.526361        0   risque_eleve  \n"
     ]
    }
   ],
   "source": [
    "import pandas as pd \n",
    "import numpy as np\n",
    "import matplotlib.pyplot as plt \n",
    "import seaborn as sns\n",
    "\n",
    "\n",
    "df = pd.read_csv(\"../data/processed/diabetes_data_cleaned.csv\")\n",
    "df_stand=pd.read_csv(\"../data/processed/data_cleabed_standardized_clustred.csv\")\n",
    "print(df_stand.head())\n",
    "print(df['Cluster'].value_counts())\n",
    "df[\"DiabetesPedigreeFunction\"]=np.expm1(df[\"DiabetesPedigreeFunction\"])\n",
    "mean_clusters=df.groupby(\"Cluster\").mean()\n",
    "print(mean_clusters.value_counts())\n",
    "\n",
    "df[\"risk_category\"]=df[\"Cluster\"].map(lambda x : \"risque_eleve\" if  x == 0  else \"risque_faible\") \n",
    "df_stand[\"risk_category\"]=df_stand[\"Cluster\"].map(lambda x : \"risque_eleve\" if  x == 0  else \"risque_faible\") \n",
    "\n",
    "print(df.head())\n",
    "df.to_csv(\"../data/classified/diabetes_data_cleaned_classified.csv\",index=False)\n",
    "df_stand.to_csv(\"../data/classified/data_cleabed_standardized_clustred_classified.csv\",index=False)\n"
   ]
  },
  {
   "cell_type": "markdown",
   "id": "2c551bf7",
   "metadata": {},
   "source": [
    "##  User Story 4 : Analyse des clusters\n",
    "\n",
    "L’objectif de cette étape était d’interpréter les résultats du modèle de clustering afin d’identifier les groupes d’individus présentant des risques différents de développer le diabète.\n",
    "\n",
    "###  1. Analyse descriptive des clusters\n",
    "Pour chaque **cluster**, les **moyennes des caractéristiques** principales ont été calculées.  \n",
    "Ces statistiques ont permis d’observer les tendances générales au sein de chaque groupe, notamment sur les variables :\n",
    "- **Glucose**\n",
    "- **BMI (Indice de Masse Corporelle)**\n",
    "- **Diabetes Pedigree Function**\n",
    "\n",
    "Un **comptage du nombre d’observations par cluster** a également été réalisé afin d’évaluer la répartition des individus dans chaque groupe.\n",
    "\n",
    "###  2. Identification du cluster à haut risque\n",
    "Le cluster dont les moyennes dépassent les seuils critiques :\n",
    "- **Glucose > 126**\n",
    "- **BMI > 30**\n",
    "- **Diabetes Pedigree Function > 0.5**\n",
    "\n",
    "a été interprété comme représentant un **groupe à haut risque de diabète**.\n",
    "\n",
    "###  3. Ajout d’une variable de risque\n",
    "Une nouvelle colonne **`risk_category`** a été créée pour catégoriser les individus selon leur niveau de risque :\n",
    "- **1 → Risque élevé**\n",
    "- **0 → Risque faible**\n",
    "\n",
    "Cette variable facilitera les analyses ultérieures et la visualisation des profils à risque.\n",
    "\n",
    "---\n",
    "\n",
    " **Résultat :**\n",
    "L’analyse a permis d’identifier un ou plusieurs clusters présentant des profils métaboliques anormaux, constituant ainsi un **groupe à risque élevé de diabète**, distinct des groupes à profil sain.\n"
   ]
  }
 ],
 "metadata": {
  "kernelspec": {
   "display_name": "Python 3",
   "language": "python",
   "name": "python3"
  },
  "language_info": {
   "codemirror_mode": {
    "name": "ipython",
    "version": 3
   },
   "file_extension": ".py",
   "mimetype": "text/x-python",
   "name": "python",
   "nbconvert_exporter": "python",
   "pygments_lexer": "ipython3",
   "version": "3.13.7"
  }
 },
 "nbformat": 4,
 "nbformat_minor": 5
}
